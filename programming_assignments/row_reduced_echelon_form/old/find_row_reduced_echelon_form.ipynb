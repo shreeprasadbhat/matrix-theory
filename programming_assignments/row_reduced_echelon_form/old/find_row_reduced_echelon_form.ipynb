{
  "nbformat": 4,
  "nbformat_minor": 0,
  "metadata": {
    "colab": {
      "name": "find_row_reduced_echelon_form.ipynb",
      "provenance": [],
      "authorship_tag": "ABX9TyP9/IDPhHPscumEBfd++Qva",
      "include_colab_link": true
    },
    "kernelspec": {
      "name": "python3",
      "display_name": "Python 3"
    }
  },
  "cells": [
    {
      "cell_type": "markdown",
      "metadata": {
        "id": "view-in-github",
        "colab_type": "text"
      },
      "source": [
        "<a href=\"https://colab.research.google.com/github/shreeprasadbhat/matrix-theory/blob/master/others/find_row_reduced_echelon_form.ipynb\" target=\"_parent\"><img src=\"https://colab.research.google.com/assets/colab-badge.svg\" alt=\"Open In Colab\"/></a>"
      ]
    },
    {
      "cell_type": "markdown",
      "metadata": {
        "id": "kOts4X3tK9T6",
        "colab_type": "text"
      },
      "source": [
        "Write a python program to reduce any given matrix to the row-reduced echelon form.\n"
      ]
    },
    {
      "cell_type": "code",
      "metadata": {
        "id": "YDwi2R01KxpB",
        "colab_type": "code",
        "colab": {}
      },
      "source": [
        "import numpy as np\n",
        "\n",
        "# Input number of rows and columns in matrix\n",
        "nRows = int(input('Enter the number of rows in matrix : '))\n",
        "nCols = int(input('Enter the number of columns in matrix : '))\n",
        "\n",
        "# Input the elements of matrix\n",
        "print('Enter the elements of matrix in single line seperated by spaces\\n')\n",
        "entries = [float(i) for i in input().split()]\n",
        "\n",
        "# Convert elements to numpy array form\n",
        "matrix = np.array(entries).reshape(nRows, nCols)\n",
        "\n",
        "np.set_printoptions(precision=3, suppress=True)\n",
        "\n",
        "rref = matrix.copy()\n",
        "\n",
        "for i in range(min(nRows, nCols)):\n",
        "\n",
        "  # skip the column if 1-st entry is zero\n",
        "  if rref[i, i] == 0 :\n",
        "    continue\n",
        "\n",
        "  # divide 1st row by 1st column entry to make 1st column entry 1\n",
        "  rref[i, :] = rref[i, :] / rref[i, i]\n",
        "\n",
        "  for iRow in range(i+1, nRows, 1):\n",
        "    # Row reduction\n",
        "    rref[iRow,:] = rref[iRow,:] - rref[iRow, i] * rref[i, :]\n",
        "  \n",
        "# print row- reduce echelon form\n",
        "print(np.array(rref))"
      ],
      "execution_count": null,
      "outputs": []
    }
  ]
}