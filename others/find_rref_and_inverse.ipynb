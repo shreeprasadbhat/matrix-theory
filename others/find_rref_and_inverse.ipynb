{
  "nbformat": 4,
  "nbformat_minor": 0,
  "metadata": {
    "colab": {
      "name": "find_rref_and_inverse.ipynb",
      "provenance": [],
      "authorship_tag": "ABX9TyPYQJNocR6WraMK4ub8uoNt",
      "include_colab_link": true
    },
    "kernelspec": {
      "name": "python3",
      "display_name": "Python 3"
    }
  },
  "cells": [
    {
      "cell_type": "markdown",
      "metadata": {
        "id": "view-in-github",
        "colab_type": "text"
      },
      "source": [
        "<a href=\"https://colab.research.google.com/github/shreeprasadbhat/matrix-theory/blob/master/others/find_rref_and_inverse.ipynb\" target=\"_parent\"><img src=\"https://colab.research.google.com/assets/colab-badge.svg\" alt=\"Open In Colab\"/></a>"
      ]
    },
    {
      "cell_type": "markdown",
      "metadata": {
        "id": "kOts4X3tK9T6",
        "colab_type": "text"
      },
      "source": [
        "Write a python program to reduce any given matrix to the row-reduced echelon form. Use this to compute inverse of the matrix.\n"
      ]
    },
    {
      "cell_type": "code",
      "metadata": {
        "id": "YDwi2R01KxpB",
        "colab_type": "code",
        "colab": {
          "base_uri": "https://localhost:8080/",
          "height": 204
        },
        "outputId": "def1e53a-655c-4f11-a7d6-915ff149f400"
      },
      "source": [
        "import numpy as np\n",
        "import copy\n",
        "\n",
        "# Input number of rows and columns in matrix\n",
        "#nRows = int(input('Enter the number of rows in matrix : '))\n",
        "#nCols = int(input('Enter the number of columns in matrix : '))\n",
        "\n",
        "nRows = 3\n",
        "nCols = 3\n",
        "\n",
        "# Input the elements of matrix\n",
        "#print('Enter the elements of matrix in single line seperated by spaces\\n')\n",
        "#entries = [float(i) for i in input().split()]\n",
        "#entries = [2.0, 1, 1, 4, -6, 0, -2, 7, 2]\n",
        "#entries = [1, 2, 3, 2, 4, 5, 3, 5, 6] # row interchange\n",
        "#entries = [1, 2, 1, -2, 1, 8, 1, -2, -7] # inverse does not exist\n",
        "entries = [2.0, 1, 1, 2, 0, 0, 0, 0, 2]\n",
        "\n",
        "# Convert elements to numpy array form\n",
        "matrix = np.array(entries).reshape(nRows, nCols)\n",
        "\n",
        "np.set_printoptions(precision=3, suppress=True)\n",
        "\n",
        "rref = matrix.copy()\n",
        "\n",
        "if nRows == nCols:\n",
        "  # Also find inverse of matrix if it is square matrix\n",
        "  isSquareMatrix = True\n",
        "\n",
        "  # Initialize inverse of matrix to identity matrix of order [nRows, nCols]\n",
        "  inverse_matrix = np.identity(nRows)\n",
        "\n",
        "for i in range(min(nRows, nCols)):\n",
        "\n",
        "  #ipdb.set_trace()\n",
        "\n",
        "  # check for pivot column or free column\n",
        "  if rref[i, i] == 0 and i != nRows:\n",
        "    isFreeColumn = True\n",
        "    # if pivot is zero, interchange with next row whose pivot is not zero\n",
        "    for jRow in range(i+1, nRows):\n",
        "      # check if pivot of this row is zero\n",
        "      if rref[jRow, jRow] == 0 :\n",
        "        continue\n",
        "      else :\n",
        "        isFreeColumn = False\n",
        "\n",
        "        # row interchange\n",
        "        temp = copy.deepcopy(rref[i,:])\n",
        "        rref[i, :] = copy.deepcopy(rref[jRow,:])\n",
        "        rref[jRow,:] = copy.deepcopy(temp)\n",
        "        \n",
        "        # also, do corresponding row interchange in inverse matrix\n",
        "        if isSquareMatrix :\n",
        "          temp = copy.deepcopy(inverse_matrix[i,:])\n",
        "          inverse_matrix[i,:] = copy.deepcopy(inverse_matrix[jRow, :])\n",
        "          inverse_matrix[jRow, :] = copy.deepcopy(temp)\n",
        "        break\n",
        "\n",
        "    if isFreeColumn :\n",
        "      # skip this column and move on to next column for row reduction\n",
        "      continue\n",
        "  \n",
        "  pivot =  rref[i, i]\n",
        "\n",
        "  # divide 1st row by 1st column entry to make 1st column entry 1\n",
        "  rref[i, :] = rref[i, :] / pivot\n",
        "\n",
        "  if isSquareMatrix:\n",
        "    inverse_matrix[i, :] = inverse_matrix[i, :] / pivot\n",
        "\n",
        "  for iRow in range(i+1, nRows, 1):\n",
        "\n",
        "    scalar = rref[iRow, i]\n",
        "\n",
        "    # Row reduction\n",
        "    rref[iRow,:] = rref[iRow,:] - scalar * rref[i, :]\n",
        "\n",
        "    if isSquareMatrix:\n",
        "      inverse_matrix[iRow,:] = inverse_matrix[iRow,:] - scalar * inverse_matrix[i, :]\n",
        "\n",
        "# print row- reduce echelon form of matrix\n",
        "print('Row reduced echelon form of given matrix is\\n')\n",
        "print(np.array(rref))\n",
        "\n",
        "if isSquareMatrix :\n",
        "  # continue code for finding inverse\n",
        "\n",
        "  # check if inverse exists for matrix, i.e check all zero exists in rref\n",
        "  existsInverse = True\n",
        "  for iRow in range(nRows) :\n",
        "    if np.all(rref[iRow, :] == 0) :\n",
        "      existsInverse = False\n",
        "      break\n",
        "\n",
        "  if existsInverse :\n",
        "    # continue doing row reduction\n",
        "    for iRow in range(nRows-2, -1, -1):\n",
        "      for iCol in range(nCols-1,  iRow, -1):\n",
        "        if rref[iRow, iCol] == 0 :\n",
        "          continue\n",
        "        # Row reduction\n",
        "        scalar = rref[iRow, iCol]\n",
        "        rref[iRow, :] = rref[iRow, :] - scalar * rref[iCol, :]\n",
        "        inverse_matrix[iRow, :] = inverse_matrix[iRow, :] - scalar * inverse_matrix[iCol, :]\n",
        "\n",
        "    # print inverse of matrix\n",
        "    print('\\nInverse of given matrix is\\n')\n",
        "    print(np.array(inverse_matrix))\n",
        "  else :\n",
        "    print('\\nInverse does not exists for given square matrix\\n')\n",
        "else :\n",
        "  print('\\nInverse does not exist for non-square matrix\\n')"
      ],
      "execution_count": 20,
      "outputs": [
        {
          "output_type": "stream",
          "text": [
            "Row reduced echelon form of given matrix is\n",
            "\n",
            "[[ 1.   0.5  0.5]\n",
            " [-0.   1.   1. ]\n",
            " [ 0.   0.   1. ]]\n",
            "\n",
            "Inverse of given matrix is\n",
            "\n",
            "[[ 0.   0.5  0. ]\n",
            " [ 1.  -1.  -0.5]\n",
            " [ 0.   0.   0.5]]\n"
          ],
          "name": "stdout"
        }
      ]
    }
  ]
}